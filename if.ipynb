{
 "cells": [
  {
   "cell_type": "markdown",
   "metadata": {},
   "source": [
    "El condicional mas basico es la condicional if\n",
    "\n",
    "<img src=\"if.png\">\n",
    "\n",
    "Condicional= Decision\n",
    "\n",
    "En palabras sencillas es tomar una decision y saber que pasara si eliges por ejemplo entrar o no a clases "
   ]
  },
  {
   "cell_type": "markdown",
   "metadata": {},
   "source": [
    "1. Crea un diagrama en el que decidas si entras o no a clases <br>\n",
    "<img src=\"Diagrama Estrella.drawio.png\">"
   ]
  },
  {
   "cell_type": "markdown",
   "metadata": {},
   "source": [
    "2. Crea un programa que diga si debe de tomar coca-cola fria o no dependiendo de la temperatura, es decir, le preguntas si tiene calor, si la respuesta es si, debe de tomar coca-cola fria\n",
    "en caso de que no solo debe de tomar coca-cola\n"
   ]
  },
  {
   "cell_type": "code",
   "execution_count": 1,
   "metadata": {},
   "outputs": [
    {
     "name": "stdout",
     "output_type": "stream",
     "text": [
      "Deberias tomar coca-cola fria. \n"
     ]
    }
   ],
   "source": [
    "calor = input(\"¿tienes calor? (si/no): \")\n",
    "if calor.lower() == \"si\":\n",
    "    print(\"Deberias tomar coca-cola fria. \")\n",
    "else:\n",
    "    print(\"puedes toar coca-cola a temperatura ambiente.\")   "
   ]
  },
  {
   "cell_type": "markdown",
   "metadata": {},
   "source": [
    "3. Crea un programa que diga si le alcanza para el camion o no, sabiendo que el camion cuesta 12 pesos "
   ]
  },
  {
   "cell_type": "code",
   "execution_count": 2,
   "metadata": {},
   "outputs": [
    {
     "name": "stdout",
     "output_type": "stream",
     "text": [
      "tienes suficiente dinero para pagar el camion. \n"
     ]
    }
   ],
   "source": [
    "dinero = float(input(\"ingrese la cantidad de dinero que tiene: \"))\n",
    "costo_camion = 12\n",
    "if dinero >= costo_camion:\n",
    "    print(\"tienes suficiente dinero para pagar el camion. \")\n",
    "else:\n",
    "    print(\"no tienes suficiente dinero para pagar el camion. \")    "
   ]
  },
  {
   "cell_type": "markdown",
   "metadata": {},
   "source": [
    "4. Crea un programa que diga si eres mayor o menor de edad "
   ]
  },
  {
   "cell_type": "code",
   "execution_count": 3,
   "metadata": {},
   "outputs": [
    {
     "name": "stdout",
     "output_type": "stream",
     "text": [
      "eres mayor de edad.\n"
     ]
    }
   ],
   "source": [
    "# solicitar al usuario que ingrese su edad \n",
    "edad = int(input(\"por favor, ingresa tu edad: \"))\n",
    "#verificar si la edad es mayor o igual a 18\n",
    "if edad >= 18:\n",
    "    print(\"eres mayor de edad.\")\n",
    "else:\n",
    "    print(\"eres menor de edad. \")    "
   ]
  },
  {
   "cell_type": "markdown",
   "metadata": {},
   "source": [
    "5. Agrega un programa con ifs anidados"
   ]
  },
  {
   "cell_type": "code",
   "execution_count": 5,
   "metadata": {},
   "outputs": [
    {
     "name": "stdout",
     "output_type": "stream",
     "text": [
      "puedes salir. \n"
     ]
    }
   ],
   "source": [
    "# solicitar al usuario su año de nacimiento\n",
    "año = int(input(\"ingresa año de nacimiento: \"))\n",
    "# verificar si puedes salir si eres 2000\n",
    "if año >= 2000:\n",
    "    print(\"no puedes salir. \")\n",
    "else: \n",
    "    print(\"puedes salir. \")    \n"
   ]
  }
 ],
 "metadata": {
  "kernelspec": {
   "display_name": "Python 3",
   "language": "python",
   "name": "python3"
  },
  "language_info": {
   "codemirror_mode": {
    "name": "ipython",
    "version": 3
   },
   "file_extension": ".py",
   "mimetype": "text/x-python",
   "name": "python",
   "nbconvert_exporter": "python",
   "pygments_lexer": "ipython3",
   "version": "3.11.3"
  }
 },
 "nbformat": 4,
 "nbformat_minor": 2
}
